{
 "cells": [
  {
   "cell_type": "code",
   "execution_count": 1,
   "metadata": {},
   "outputs": [],
   "source": [
    "# 58\n",
    "# Vehicle()\n",
    "# Engine()\n",
    "\n",
    "class Engine:\n",
    "    def __init__(self, enigineType):\n",
    "        self.engineType = enigineType\n",
    "    def startEngine(self):\n",
    "        print(\"Engine is running\")\n",
    "    def stopEngine(self):\n",
    "        print(\"Engine is stopped\")\n",
    "        \n",
    "class Vehicle:\n",
    "    def __init__(self, type, forSale, engine):\n",
    "        self.type = type\n",
    "        self.forSale = forSale\n",
    "        self.eninge = engine"
   ]
  },
  {
   "cell_type": "code",
   "execution_count": 3,
   "metadata": {},
   "outputs": [],
   "source": [
    "enigne = Engine(\n",
    "    enigineType=\"V6\")"
   ]
  },
  {
   "cell_type": "code",
   "execution_count": 5,
   "metadata": {},
   "outputs": [
    {
     "name": "stdout",
     "output_type": "stream",
     "text": [
      "Engine is running\n"
     ]
    }
   ],
   "source": [
    "enigne.engineType\n",
    "enigne.startEngine()"
   ]
  },
  {
   "cell_type": "code",
   "execution_count": 9,
   "metadata": {},
   "outputs": [],
   "source": [
    "# 59\n",
    "class Weapon:\n",
    "    def __init__(self, weapon_type, attack_increase):\n",
    "        self.weapon_type = weapon_type\n",
    "        self.attack_increase = attack_increase\n",
    "\n",
    "class Hero:\n",
    "    def __init__(self, health_points, attact_damage):\n",
    "        self.health_points = health_points\n",
    "        self.attact_damage = attact_damage\n",
    "        self.is_weapon_equipped = False\n",
    "        self.weapon: Weapon = None\n",
    "        \n",
    "    def equip_weapon(self):\n",
    "        if self.weapon is not None and not self.is_weapon_equipped:\n",
    "            self.attact_damage += self.weapon.attack_increase\n",
    "            self.is_weapon_equipped = True"
   ]
  },
  {
   "cell_type": "code",
   "execution_count": 10,
   "metadata": {},
   "outputs": [],
   "source": [
    "hero = Hero(health_points=100, attact_damage=10)"
   ]
  }
 ],
 "metadata": {
  "kernelspec": {
   "display_name": "python-clean-archi-iV6cR6l2-py3.10",
   "language": "python",
   "name": "python3"
  },
  "language_info": {
   "codemirror_mode": {
    "name": "ipython",
    "version": 3
   },
   "file_extension": ".py",
   "mimetype": "text/x-python",
   "name": "python",
   "nbconvert_exporter": "python",
   "pygments_lexer": "ipython3",
   "version": "3.10.14"
  }
 },
 "nbformat": 4,
 "nbformat_minor": 2
}
