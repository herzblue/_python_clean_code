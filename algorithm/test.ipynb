{
 "cells": [
  {
   "cell_type": "code",
   "execution_count": 42,
   "metadata": {},
   "outputs": [],
   "source": [
    "class CircularQueue:\n",
    "    # 1. 빈 큐를 초기화 (주어진 인자로 큐의 최대) 길이 설정\n",
    "    def __init__(self, n):\n",
    "        self.maxCount = n\n",
    "        self.data = [None] * n\n",
    "        self.count = 0\n",
    "        self.front = -1\n",
    "        self.rear = -1\n",
    "\n",
    "    # 2. 현재 큐 길이를 반환\n",
    "    def size(self):\n",
    "        return self.count\n",
    "\n",
    "    # 3. 큐가 비어있는가?\n",
    "    def isEmpty(self):\n",
    "        return self.count == 0\n",
    "\n",
    "    # 4. 큐가 꽉 차있는가?\n",
    "    def isFull(self):\n",
    "        return self.count == self.maxCount\n",
    "\n",
    "    # 5. 큐에 데이터 원소 추가\n",
    "    # 정해진 공간을 빙 돌려가며 이용, 즉 공간을 재활용해야 하기 때문에,\n",
    "    # front 와 rear 를 마냥 증가시키기만 함으로써는 환형 큐를 구성할 수 없다. -> 환형은 나머지를 이용하자!!!\n",
    "\n",
    "    def enqueue(self, x):\n",
    "        if self.isFull():\n",
    "            # IndexError('Queue full') exception으로 처리\n",
    "            raise IndexError('Queue full')\n",
    "        self.rear = (self.rear + 1) % self.maxCount\n",
    "        self.data[self.rear] = x\n",
    "        self.count += 1\n",
    "    \n",
    "    # 6. 큐에서 데이터 원소 뽑아내기\n",
    "    def dequeue(self):\n",
    "        if self.count == 0:\n",
    "            raise IndexError('Queue empty')\n",
    "        self.front = (self.front + 1) % self.maxCount#적절히 돌아갈 수 있도록 구현\n",
    "        x = self.data[self.front]\n",
    "        self.count -= 1\n",
    "        return x"
   ]
  },
  {
   "cell_type": "code",
   "execution_count": 43,
   "metadata": {},
   "outputs": [],
   "source": [
    "q = CircularQueue(3)"
   ]
  },
  {
   "cell_type": "code",
   "execution_count": 51,
   "metadata": {},
   "outputs": [
    {
     "name": "stdout",
     "output_type": "stream",
     "text": [
      "\n",
      "None\n",
      "1\n",
      "1\n",
      "1\n",
      "\n"
     ]
    }
   ],
   "source": [
    "# q.enqueue(1)\n",
    "print(f\"\"\"\n",
    "{q.enqueue(1)}\n",
    "{q.dequeue()}\n",
    "{q.rear}\n",
    "{q.front}\n",
    "\"\"\")"
   ]
  },
  {
   "cell_type": "code",
   "execution_count": 38,
   "metadata": {},
   "outputs": [
    {
     "data": {
      "text/plain": [
       "0"
      ]
     },
     "execution_count": 38,
     "metadata": {},
     "output_type": "execute_result"
    }
   ],
   "source": [
    "front = -1\n",
    "maxCount = 3\n",
    "count = 1\n",
    "if count == 0:\n",
    "\traise IndexError('Queue empty')\n",
    "front = (front + 1) % maxCount#적절히 돌아갈 수 있도록 구현\n",
    "x = \n",
    "count -= 1\n",
    "print(f\"front: {front}, count: {count}\")\n",
    "print(f\"x: {x}\")"
   ]
  },
  {
   "cell_type": "code",
   "execution_count": 36,
   "metadata": {},
   "outputs": [
    {
     "name": "stdout",
     "output_type": "stream",
     "text": [
      "0\n"
     ]
    }
   ],
   "source": [
    "rear = -1\n",
    "maxCount = 3\n",
    "print((rear + 1) % maxCount)"
   ]
  },
  {
   "cell_type": "code",
   "execution_count": 52,
   "metadata": {},
   "outputs": [
    {
     "data": {
      "text/plain": [
       "3"
      ]
     },
     "execution_count": 52,
     "metadata": {},
     "output_type": "execute_result"
    }
   ],
   "source": [
    "list = [0, 1, 2]\n",
    "len(list)"
   ]
  }
 ],
 "metadata": {
  "kernelspec": {
   "display_name": "python-clean-archi-iV6cR6l2-py3.10",
   "language": "python",
   "name": "python3"
  },
  "language_info": {
   "codemirror_mode": {
    "name": "ipython",
    "version": 3
   },
   "file_extension": ".py",
   "mimetype": "text/x-python",
   "name": "python",
   "nbconvert_exporter": "python",
   "pygments_lexer": "ipython3",
   "version": "3.10.14"
  }
 },
 "nbformat": 4,
 "nbformat_minor": 2
}
