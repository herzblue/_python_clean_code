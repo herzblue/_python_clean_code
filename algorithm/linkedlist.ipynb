{
 "cells": [
  {
   "cell_type": "code",
   "execution_count": 57,
   "metadata": {},
   "outputs": [],
   "source": [
    "class Node:\n",
    "    def __init__(self, item):\n",
    "        self.data = item\n",
    "        self.next = None\n",
    "        \n",
    "class LinkedList:\n",
    "\t\t\n",
    "    def __init__(self):\n",
    "        self.nodeCount = 0\n",
    "        self.head = None\n",
    "        self.tail = None\n",
    "        \n",
    "    # 1. 특정 원소 참조 (k번째) - head부터 next로 node찾기\n",
    "    def getAt(self, pos):\n",
    "        if pos < 1 or pos > self.nodeCount:\n",
    "            return None\n",
    "        i = 1\n",
    "        curr = self.head\n",
    "        while i < pos:\n",
    "            curr = curr.next\n",
    "        return curr\n",
    "\n",
    "\t# 2. 리스트 순회\n",
    "    def traverse(self):\n",
    "        # 빈 리스트 예외처리\n",
    "        if not self.head: return []\n",
    "        \n",
    "        list = []\n",
    "        # point 지정\n",
    "        curr = self.head #1\n",
    "        \n",
    "        # curr이 None이면 반복문 끝\n",
    "        # curr이 head ~ tail 순회  \n",
    "        while curr is not None:\n",
    "            list.append(curr.data) #67\n",
    "            curr = curr.next\n",
    "        return list\n",
    "\n",
    "\t# 3. 길이 얻어내기\n",
    "    def __len__(self):\n",
    "        if not self.head: return 0\n",
    "        curr = self.head\n",
    "        i = 0\n",
    "        while curr is not None:\n",
    "            i += 1\n",
    "            curr = curr.next\n",
    "        return i\n",
    "\n",
    "    # 4. 원소 삽입\n",
    "    def inserAt(self, pos, newNode):\n",
    "        # 범위 밖\n",
    "        if pos < 1 or pos > self.nodeCount + 1: return False\n",
    "        # 예외1 head\n",
    "        if pos == 1:\n",
    "            newNode.next = self.head # head 조정\n",
    "            self.head = newNode\n",
    "        # 예외2 tail\n",
    "        elif pos == self.nodeCount + 1:\n",
    "            self.tail = newNode # tail 조정\n",
    "        else:\n",
    "            # 본 기능\n",
    "            # newNode 1) newNode.next 지정 2) prev.next \n",
    "            prev = self.getAt(pos-1)\n",
    "            newNode.next = prev.next\n",
    "            prev.next = newNode\n",
    "\n",
    "        if pos == self.nodeCount + 1:\n",
    "            self.tail = newNode # tail 조정\n",
    "        \n",
    "        self.nodeCount += 1\n",
    "        return True\n",
    "    \n",
    "    # 5. 원소 삭제\n",
    "\n",
    "    # 6. 두 리스트 합치기\n",
    "\n",
    "    # 7. print\n",
    "    def __repr__(self):\n",
    "        if self.nodeCount == 0:\n",
    "            return 'LinkedList: empty'\n",
    "    \n",
    "        s = ''\n",
    "        curr = self.head\n",
    "        # 빈리스트면 pass\n",
    "        while curr is not None:\n",
    "            s += repr(curr.data)\n",
    "            if curr.next is not None:\n",
    "                s += ' -> '\n",
    "            curr = curr.next\n",
    "        return s\n"
   ]
  },
  {
   "cell_type": "code",
   "execution_count": 73,
   "metadata": {},
   "outputs": [],
   "source": [
    "class Node:\n",
    "\n",
    "    def __init__(self, item):\n",
    "        self.data = item\n",
    "        self.next = None\n",
    "\n",
    "\n",
    "class LinkedList:\n",
    "\n",
    "    def __init__(self):\n",
    "        self.nodeCount = 0\n",
    "        self.head = None\n",
    "        self.tail = None\n",
    "\n",
    "\n",
    "    def __repr__(self):\n",
    "        if self.nodeCount == 0:\n",
    "            return 'LinkedList: empty'\n",
    "\n",
    "        s = ''\n",
    "        curr = self.head\n",
    "        while curr is not None:\n",
    "            s += repr(curr.data)\n",
    "            if curr.next is not None:\n",
    "                s += ' -> '\n",
    "            curr = curr.next\n",
    "        return s\n",
    "\n",
    "\n",
    "    def getAt(self, pos):\n",
    "        if pos < 1 or pos > self.nodeCount:\n",
    "            return None\n",
    "\n",
    "        i = 1\n",
    "        curr = self.head\n",
    "        while i < pos:\n",
    "            curr = curr.next\n",
    "            i += 1\n",
    "\n",
    "        return curr\n",
    "\n",
    "\n",
    "    def insertAt(self, pos, newNode):\n",
    "        if pos < 1 or pos > self.nodeCount + 1:\n",
    "            return False\n",
    "\n",
    "        if pos == 1:\n",
    "            newNode.next = self.head\n",
    "            self.head = newNode\n",
    "\n",
    "        else:\n",
    "            if pos == self.nodeCount + 1:\n",
    "                prev = self.tail\n",
    "            else:\n",
    "                prev = self.getAt(pos - 1)\n",
    "            newNode.next = prev.next\n",
    "            prev.next = newNode\n",
    "\n",
    "        if pos == self.nodeCount + 1:\n",
    "            self.tail = newNode\n",
    "\n",
    "        self.nodeCount += 1\n",
    "        return True\n",
    "\n",
    "\n",
    "    def getLength(self):\n",
    "        return self.nodeCount\n",
    "\n",
    "\n",
    "    def traverse(self):\n",
    "        result = []\n",
    "        curr = self.head\n",
    "        while curr is not None:\n",
    "            result.append(curr.data)\n",
    "            curr = curr.next\n",
    "        return result\n",
    "\n",
    "\n",
    "    def concat(self, L):\n",
    "        self.tail.next = L.head\n",
    "        if L.tail:\n",
    "            self.tail = L.tail\n",
    "        self.nodeCount += L.nodeCount\n",
    "        \n",
    "    def __len__(self):\n",
    "        if not self.head: return 0\n",
    "        curr = self.head\n",
    "        i = 0\n",
    "        while curr is not None:\n",
    "            i += 1\n",
    "            curr = curr.next\n",
    "        return i\n",
    "\n",
    "    def popAt(self, pos):\n",
    "        "
   ]
  },
  {
   "cell_type": "code",
   "execution_count": 74,
   "metadata": {},
   "outputs": [
    {
     "data": {
      "text/plain": [
       "LinkedList: empty"
      ]
     },
     "execution_count": 74,
     "metadata": {},
     "output_type": "execute_result"
    }
   ],
   "source": [
    "a = Node(67)\n",
    "b = Node(34)\n",
    "c = Node(28)\n",
    "L = LinkedList()\n",
    "L"
   ]
  },
  {
   "cell_type": "code",
   "execution_count": 75,
   "metadata": {},
   "outputs": [
    {
     "name": "stdout",
     "output_type": "stream",
     "text": [
      "1 67 [67]\n"
     ]
    }
   ],
   "source": [
    "L.insertAt(1, a)\n",
    "print(len(L), L, L.traverse())"
   ]
  },
  {
   "cell_type": "code",
   "execution_count": 77,
   "metadata": {},
   "outputs": [
    {
     "name": "stdout",
     "output_type": "stream",
     "text": [
      "2 2 67 -> 34 [67, 34]\n"
     ]
    }
   ],
   "source": [
    "L.insertAt(2, b)\n",
    "print(len(L), L.nodeCount, L, L.traverse())"
   ]
  },
  {
   "cell_type": "code",
   "execution_count": 78,
   "metadata": {},
   "outputs": [
    {
     "name": "stdout",
     "output_type": "stream",
     "text": [
      "3 67 -> 34 -> 28 [67, 34, 28]\n"
     ]
    }
   ],
   "source": [
    "L.insertAt(3, c)\n",
    "print(len(L), L, L.traverse())"
   ]
  }
 ],
 "metadata": {
  "kernelspec": {
   "display_name": ".venv",
   "language": "python",
   "name": "python3"
  },
  "language_info": {
   "codemirror_mode": {
    "name": "ipython",
    "version": 3
   },
   "file_extension": ".py",
   "mimetype": "text/x-python",
   "name": "python",
   "nbconvert_exporter": "python",
   "pygments_lexer": "ipython3",
   "version": "3.10.14"
  }
 },
 "nbformat": 4,
 "nbformat_minor": 2
}
