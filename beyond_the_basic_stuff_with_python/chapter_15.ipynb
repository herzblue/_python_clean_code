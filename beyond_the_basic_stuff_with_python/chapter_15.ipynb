{
 "cells": [
  {
   "cell_type": "code",
   "execution_count": 1,
   "metadata": {},
   "outputs": [],
   "source": [
    "# __init__, 메서드\n",
    "class WizCoin:\n",
    "    def __init__(self, galleons, sickles, knuts):\n",
    "        \"\"\"금화(galleons), 은화(sickles), 너트(knuts)로 새로운 WizCoin 객체를 생성합니다.\"\"\"\n",
    "        self.galleons = galleons\n",
    "        self.sickles  = sickles\n",
    "        self.knuts    = knuts\n",
    "        # 참고: __init__() 메서드에는 반환문이 없습니다.\n",
    "\n",
    "    def value(self):\n",
    "        \"\"\"이 WizCoin 객체의 모든 동전의 가치(너트 단위)를 반환합니다.\"\"\"\n",
    "        return (self.galleons * 17 * 29) + (self.sickles * 29) + (self.knuts)\n",
    "\n",
    "    def weightInGrams(self):\n",
    "        \"\"\"동전의 무게를 그램 단위로 반환합니다.\"\"\"\n",
    "        return (self.galleons * 31.103) + (self.sickles * 11.34) + (self.knuts * 5.0)"
   ]
  },
  {
   "cell_type": "code",
   "execution_count": 5,
   "metadata": {},
   "outputs": [
    {
     "name": "stdout",
     "output_type": "stream",
     "text": [
      "<__main__.WizCoin object at 0x7fc4e41eb820>\n",
      "G: 2 S: 5 K: 99\n",
      "Total value: 1230\n",
      "Weight: 613.906 grams\n",
      "\n",
      "<__main__.WizCoin object at 0x7fc4e41eb4f0>\n",
      "G: 13 S: 0 K: 0\n",
      "Total value: 6409\n",
      "Weight: 404.339 grams\n"
     ]
    }
   ],
   "source": [
    "purse = WizCoin(2, 5, 99) # The ints are passed to __init__().\n",
    "print(purse)\n",
    "print('G:', purse.galleons, 'S:', purse.sickles, 'K:', purse.knuts)\n",
    "print('Total value:', purse.value())\n",
    "print('Weight:', purse.weightInGrams(), 'grams')\n",
    "\n",
    "print()\n",
    "\n",
    "coinJar = WizCoin(13, 0, 0) # The ints are passed to __init__().\n",
    "print(coinJar)\n",
    "print('G:', coinJar.galleons, 'S:', coinJar.sickles, 'K:', coinJar.knuts)\n",
    "print('Total value:', coinJar.value())\n",
    "print('Weight:', coinJar.weightInGrams(), 'grams')\n"
   ]
  },
  {
   "cell_type": "code",
   "execution_count": 6,
   "metadata": {},
   "outputs": [
    {
     "name": "stdout",
     "output_type": "stream",
     "text": [
      "7\n",
      "17\n",
      "3\n",
      "a new attr\n"
     ]
    }
   ],
   "source": [
    "# 속성\n",
    "change = WizCoin(9, 7, 20)\n",
    "print(change.sickles) # Prints 7.\n",
    "change.sickles += 10\n",
    "print(change.sickles) # Prints 17.\n",
    "\n",
    "pile = WizCoin(2, 3, 31)\n",
    "print(pile.sickles) # Prints 3.\n",
    "pile.someNewAttribute = 'a new attr' # A new attribute is created.\n",
    "print(pile.someNewAttribute)\n"
   ]
  },
  {
   "cell_type": "code",
   "execution_count": null,
   "metadata": {},
   "outputs": [],
   "source": [
    "# Private Attributes and Private Methods\n",
    "\n",
    "class BankAccount:\n",
    "    def __init__(self, accountHolder):\n",
    "        # BankAccount methods can access self._balance, but code outside of\n",
    "        # this class should not:\n",
    "        self._balance = 0\n",
    "        self._name = accountHolder\n",
    "        with open(self._name + 'Ledger.txt', 'w') as ledgerFile:\n",
    "            ledgerFile.write('Balance is 0\\n')\n",
    "\n",
    "    def deposit(self, amount):\n",
    "        if amount <= 0:\n",
    "            return # Don't allow negative \"deposits\".\n",
    "        self._balance += amount\n",
    "        with open(self._name + 'Ledger.txt', 'a') as ledgerFile:\n",
    "            ledgerFile.write('Deposit ' + str(amount) + '\\n')\n",
    "            ledgerFile.write('Balance is ' + str(self._balance) + '\\n')\n",
    "\n",
    "    def withdraw(self, amount):\n",
    "        if self._balance < amount or amount < 0:\n",
    "            return # Not enough in account, or withdraw is negative.\n",
    "        self._balance -= amount\n",
    "        with open(self._name + 'Ledger.txt', 'a') as ledgerFile:\n",
    "            ledgerFile.write('Withdraw ' + str(amount) + '\\n')\n",
    "            ledgerFile.write('Balance is ' + str(self._balance) + '\\n')\n",
    "\n",
    "acct = BankAccount('Alice') # We create an account for Alice.\n",
    "acct.deposit(120) # _balance can be affected through deposit()\n",
    "acct.withdraw(40) # _balance can be affected through withdraw()\n",
    "\n",
    "# Changing _name or _balance outside of BankAccount is impolite, but allowed:\n",
    "acct._balance = 1000000000\n",
    "acct.withdraw(1000)\n",
    "\n",
    "acct._name = 'Bob' # Now we're modifying Bob's account ledger!\n",
    "acct.withdraw(1000) # This withdrawal is recorded in BobLedger.txt!\n"
   ]
  }
 ],
 "metadata": {
  "kernelspec": {
   "display_name": "python-clean-archi-iV6cR6l2-py3.10",
   "language": "python",
   "name": "python3"
  },
  "language_info": {
   "codemirror_mode": {
    "name": "ipython",
    "version": 3
   },
   "file_extension": ".py",
   "mimetype": "text/x-python",
   "name": "python",
   "nbconvert_exporter": "python",
   "pygments_lexer": "ipython3",
   "version": "3.10.14"
  }
 },
 "nbformat": 4,
 "nbformat_minor": 2
}
