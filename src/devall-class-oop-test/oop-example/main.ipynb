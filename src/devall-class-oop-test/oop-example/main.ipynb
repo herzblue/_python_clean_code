{
 "cells": [
  {
   "cell_type": "code",
   "execution_count": 1,
   "metadata": {},
   "outputs": [],
   "source": [
    "class GrabStore:\n",
    "    def __init__(self):\n",
    "        self.money = 0\n",
    "        self.name = \"그랩마켓\"\n",
    "        self.products = {\n",
    "            1: {\"name\": \"콜라\", \"price\": 1000},\n",
    "            2: {\"name\": \"사이다\", \"price\": 900},\n",
    "        }\n",
    "    def set_money(self, money):\n",
    "        self.money = money\n",
    "    def set_products(self, products):\n",
    "        self.products = products\n",
    "    def get_money(self):\n",
    "        return self.money\n",
    "    def get_products(self):\n",
    "        return self.products\n"
   ]
  },
  {
   "cell_type": "code",
   "execution_count": 2,
   "metadata": {},
   "outputs": [],
   "source": [
    "class User:\n",
    "    def __init__(self):\n",
    "        self.money = 0\n",
    "        self.store = GrabStore()\n",
    "        self.belongs = []\n",
    "\n",
    "    def set_money(self, money):\n",
    "        self.money = money\n",
    "\n",
    "    def set_belongs(self, belongs):\n",
    "        self.belongs = belongs\n",
    "\n",
    "    def get_money(self):\n",
    "        return self.money\n",
    "\n",
    "    def get_belongs(self):\n",
    "        return self.belongs\n",
    "\n",
    "    def get_store(self):\n",
    "        return self.store\n",
    "\n",
    "    def see_product(self, product_id):\n",
    "        products = self.store.get_products()\n",
    "        return products[product_id]\n",
    "\n",
    "    def purchase_product(self, product_id):\n",
    "        product = self.see_product(product_id)\n",
    "        if self.money >= product[\"price\"]:\n",
    "            self.store.products.pop(product_id)  # 상점에서 상품 꺼내기\n",
    "            self.money -= product[\"price\"]  # 사용자가 돈 내기\n",
    "            self.store.money += product[\"price\"]  # 상점에서 돈 받기\n",
    "            self.belongs.append(product)\n",
    "            return product\n",
    "        else:\n",
    "            raise Exception(\"잔돈이 부족합니다\")"
   ]
  },
  {
   "cell_type": "code",
   "execution_count": 3,
   "metadata": {},
   "outputs": [
    {
     "data": {
      "text/plain": [
       "{'name': '콜라', 'price': 1000}"
      ]
     },
     "execution_count": 3,
     "metadata": {},
     "output_type": "execute_result"
    }
   ],
   "source": [
    "# if __name__ == \"__main__\":\n",
    "user = User()\n",
    "user.set_money(100000)\n",
    "user.purchase_product(product_id=1)"
   ]
  },
  {
   "cell_type": "code",
   "execution_count": 4,
   "metadata": {},
   "outputs": [
    {
     "data": {
      "text/plain": [
       "99000"
      ]
     },
     "execution_count": 4,
     "metadata": {},
     "output_type": "execute_result"
    }
   ],
   "source": [
    "user.get_money()"
   ]
  },
  {
   "cell_type": "code",
   "execution_count": 6,
   "metadata": {},
   "outputs": [],
   "source": [
    "user2 = User()"
   ]
  },
  {
   "cell_type": "code",
   "execution_count": null,
   "metadata": {},
   "outputs": [],
   "source": []
  }
 ],
 "metadata": {
  "kernelspec": {
   "display_name": ".venv",
   "language": "python",
   "name": "python3"
  },
  "language_info": {
   "codemirror_mode": {
    "name": "ipython",
    "version": 3
   },
   "file_extension": ".py",
   "mimetype": "text/x-python",
   "name": "python",
   "nbconvert_exporter": "python",
   "pygments_lexer": "ipython3",
   "version": "3.10.14"
  }
 },
 "nbformat": 4,
 "nbformat_minor": 2
}
