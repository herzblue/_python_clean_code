{
 "cells": [
  {
   "cell_type": "code",
   "execution_count": 2,
   "metadata": {},
   "outputs": [
    {
     "name": "stdout",
     "output_type": "stream",
     "text": [
      "0\n",
      "1\n",
      "2\n",
      "3\n",
      "siri\n",
      "21039788127\n",
      "Greetings, my masters call me jarvis.\n",
      "Greetings, my masters call me siri.\n",
      "We have 5 robots.\n"
     ]
    }
   ],
   "source": [
    "class Robot:\n",
    "\n",
    "    # 클래스 변수 : 인스턴스들이 공유하는 변수\n",
    "    population = 0\n",
    "\n",
    "    # 생성자 함수\n",
    "    def __init__(self, name, code):\n",
    "        self.name = name  # 인스턴스 변수\n",
    "        self.code = code  # 인스턴스 변수\n",
    "        Robot.population += 1\n",
    "\n",
    "    # 인스턴스 메서드\n",
    "    def say_hi(self):\n",
    "        # code\n",
    "        print(f\"Greetings, my masters call me {self.name}.\")\n",
    "\n",
    "    # 인스턴스 메서드\n",
    "    def cal_add(self, a, b):\n",
    "        return a + b\n",
    "\n",
    "    # 인스턴스 메서드\n",
    "    def die(self):\n",
    "        print(f\"{self.name} is being destroyed!\")\n",
    "        Robot.population -= 1\n",
    "        if Robot.population == 0:\n",
    "            print(f\"{self.name} was the last one.\")\n",
    "        else:\n",
    "            print(f\"There are still {Robot.population} robots working.\")\n",
    "\n",
    "    # 클래스 메서드\n",
    "    @classmethod\n",
    "    def how_many(cls):\n",
    "        print(f\"We have {cls.population} robots.\")\n",
    "\n",
    "\n",
    "print(Robot.population)  # 0\n",
    "\n",
    "siri = Robot(\"siri\", 21039788127)\n",
    "\n",
    "print(Robot.population)  # 1\n",
    "\n",
    "jarvis = Robot(\"jarvis\", 2311213123)\n",
    "\n",
    "print(Robot.population)  # 2\n",
    "\n",
    "bixby = Robot(\"bixby\", 124312423)\n",
    "\n",
    "print(Robot.population)  # 3\n",
    "\n",
    "bixby2 = Robot(\"bixby2\", 124312423)\n",
    "bixby23 = Robot(\"bixby2\", 124312423)\n",
    "\n",
    "print(siri.name)\n",
    "print(siri.code)\n",
    "\n",
    "jarvis.say_hi()\n",
    "\n",
    "\n",
    "siri.say_hi()\n",
    "siri.cal_add(2, 3)\n",
    "\n",
    "\n",
    "Robot.how_many()\n"
   ]
  },
  {
   "cell_type": "code",
   "execution_count": 1,
   "metadata": {},
   "outputs": [
    {
     "data": {
      "text/plain": [
       "'\\n#* namespace : 개체를 구분할 수 있는 범위\\n#* __dict__ : 네임스페이스를 확인할 수 있다.\\n#* dir() : 네임스페이스의 key 값을 확인할 수 있다.\\n#* __doc__ : class의 주석을 확인한다.\\n#* __class__ : 어떤 클래스로 만들어진 인스턴스인지 확인할 수 있다.\\n'"
      ]
     },
     "execution_count": 1,
     "metadata": {},
     "output_type": "execute_result"
    }
   ],
   "source": [
    "\n",
    "\"\"\"\n",
    "#* namespace : 개체를 구분할 수 있는 범위\n",
    "    - 찾는 순서: 인스턴스 네임스페이스 -> 클래스 네임스페이스 -> 전역 네임스페이스  \n",
    "#* __dict__ : 네임스페이스를 확인할 수 있다.\n",
    "#* dir() : 네임스페이스의 key 값을 확인할 수 있다.\n",
    "#* __doc__ : class의 주석을 확인한다.\n",
    "#* __class__ : 어떤 클래스로 만들어진 인스턴스인지 확인할 수 있다.\n",
    "\"\"\""
   ]
  },
  {
   "cell_type": "code",
   "execution_count": 3,
   "metadata": {},
   "outputs": [
    {
     "data": {
      "text/plain": [
       "mappingproxy({'__module__': '__main__',\n",
       "              'population': 5,\n",
       "              '__init__': <function __main__.Robot.__init__(self, name, code)>,\n",
       "              'say_hi': <function __main__.Robot.say_hi(self)>,\n",
       "              'cal_add': <function __main__.Robot.cal_add(self, a, b)>,\n",
       "              'die': <function __main__.Robot.die(self)>,\n",
       "              'how_many': <classmethod(<function Robot.how_many at 0x7f7bac116830>)>,\n",
       "              '__dict__': <attribute '__dict__' of 'Robot' objects>,\n",
       "              '__weakref__': <attribute '__weakref__' of 'Robot' objects>,\n",
       "              '__doc__': None})"
      ]
     },
     "execution_count": 3,
     "metadata": {},
     "output_type": "execute_result"
    }
   ],
   "source": [
    "Robot.__dict__"
   ]
  },
  {
   "cell_type": "code",
   "execution_count": 4,
   "metadata": {},
   "outputs": [
    {
     "data": {
      "text/plain": [
       "{'name': 'siri', 'code': 21039788127}"
      ]
     },
     "execution_count": 4,
     "metadata": {},
     "output_type": "execute_result"
    }
   ],
   "source": [
    "siri.__dict__"
   ]
  },
  {
   "cell_type": "code",
   "execution_count": 6,
   "metadata": {},
   "outputs": [
    {
     "data": {
      "text/plain": [
       "__main__.Robot"
      ]
     },
     "execution_count": 6,
     "metadata": {},
     "output_type": "execute_result"
    }
   ],
   "source": [
    "siri.__class__"
   ]
  },
  {
   "cell_type": "code",
   "execution_count": 7,
   "metadata": {},
   "outputs": [
    {
     "data": {
      "text/plain": [
       "5"
      ]
     },
     "execution_count": 7,
     "metadata": {},
     "output_type": "execute_result"
    }
   ],
   "source": [
    "siri.population"
   ]
  }
 ],
 "metadata": {
  "kernelspec": {
   "display_name": ".venv",
   "language": "python",
   "name": "python3"
  },
  "language_info": {
   "codemirror_mode": {
    "name": "ipython",
    "version": 3
   },
   "file_extension": ".py",
   "mimetype": "text/x-python",
   "name": "python",
   "nbconvert_exporter": "python",
   "pygments_lexer": "ipython3",
   "version": "3.10.14"
  }
 },
 "nbformat": 4,
 "nbformat_minor": 2
}
