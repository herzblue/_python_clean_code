{
 "cells": [
  {
   "cell_type": "code",
   "execution_count": 6,
   "metadata": {},
   "outputs": [],
   "source": [
    "class SelfTest:\n",
    "    # 크래스 변수\n",
    "    name = \"SelfTest\"\n",
    "    def __init__(self, x):\n",
    "        self.x = x\n",
    "\n",
    "    # 클래스 메서드\n",
    "    @classmethod\n",
    "    def func1(cls):\n",
    "        print(f\"cls: {cls}\")\n",
    "        print(\"func1\")\n",
    "        \n",
    "    def func2(self):\n",
    "        print(f\"self: {self}\")\n",
    "        print(\"class안의 self주소: \", id(self))\n",
    "        print(\"func2\")"
   ]
  },
  {
   "cell_type": "code",
   "execution_count": 7,
   "metadata": {},
   "outputs": [],
   "source": [
    "test_obj = SelfTest(17)"
   ]
  },
  {
   "cell_type": "code",
   "execution_count": 10,
   "metadata": {},
   "outputs": [
    {
     "name": "stdout",
     "output_type": "stream",
     "text": [
      "cls: <class '__main__.SelfTest'>\n",
      "func1\n",
      "인스턴스의 주소: 140648061389840\n",
      "self: <__main__.SelfTest object at 0x7feb2dbccc10>\n",
      "class안의 self주소:  140648061389840\n",
      "func2\n"
     ]
    }
   ],
   "source": [
    "# self 주소 = 인스턴스 주소\n",
    "# cls = 클래스 자체\n",
    "test_obj.func1()\n",
    "print(f\"인스턴스의 주소: {id(test_obj)}\")\n",
    "test_obj.func2()"
   ]
  }
 ],
 "metadata": {
  "kernelspec": {
   "display_name": ".venv",
   "language": "python",
   "name": "python3"
  },
  "language_info": {
   "codemirror_mode": {
    "name": "ipython",
    "version": 3
   },
   "file_extension": ".py",
   "mimetype": "text/x-python",
   "name": "python",
   "nbconvert_exporter": "python",
   "pygments_lexer": "ipython3",
   "version": "3.10.14"
  }
 },
 "nbformat": 4,
 "nbformat_minor": 2
}
