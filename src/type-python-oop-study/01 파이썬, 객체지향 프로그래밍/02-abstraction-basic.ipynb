{
 "cells": [
  {
   "cell_type": "code",
   "execution_count": 12,
   "metadata": {},
   "outputs": [],
   "source": [
    "class Robot:\n",
    "    \n",
    "    # 클래스 변수: 인스턴스들이 공유하는 변수\n",
    "    population = 0 \n",
    "    \n",
    "    # 생성자 함수\n",
    "    def __init__(self, name, code):\n",
    "        self.name = name # 인스턴스 변수\n",
    "        self.code = code # 인스턴스 변수\n",
    "        Robot.population += 1\n",
    "        \n",
    "    # 인스턴스 메서드\n",
    "    def say_hi(self):\n",
    "        # \n",
    "        print(f\"Hi master, I am {self.name}\")\n",
    "    \n",
    "    # 인스턴스 메서드\n",
    "    def cal_add(self, a, b):\n",
    "        return a + b\n",
    "    \n",
    "    # 인스턴스 메서드\n",
    "    def die(self):\n",
    "        print(f\"{self.name} is being destroyed\")\n",
    "        Robot.population -= 1\n",
    "        if Robot.population == 0: print(f\"{self.name} was last one.\")\n",
    "        else: print(f\"We have {Robot.population} robots left.\")\n",
    "\n",
    "    @classmethod\n",
    "    def how_many(cls):\n",
    "        print(f'We have {cls.population} robots')"
   ]
  },
  {
   "cell_type": "code",
   "execution_count": 14,
   "metadata": {},
   "outputs": [],
   "source": [
    "siri = Robot(\"Siri\", 123)\n",
    "javis = Robot(\"Javis\", 456)\n",
    "bixby = Robot(\"Bixby\", 789)\n",
    "bixby2 = Robot(\"Bixby2\", 101112)"
   ]
  },
  {
   "cell_type": "code",
   "execution_count": 15,
   "metadata": {},
   "outputs": [
    {
     "name": "stdout",
     "output_type": "stream",
     "text": [
      "Hi master, I am Siri\n",
      "Hi master, I am Javis\n",
      "Hi master, I am Bixby\n",
      "\n",
      "3\n",
      "7\n",
      "11\n",
      "\n",
      "Siri is being destroyed\n",
      "We have 3 robots left.\n",
      "Javis is being destroyed\n",
      "We have 2 robots left.\n",
      "Bixby is being destroyed\n",
      "We have 1 robots left.\n",
      "We have 1 robots\n"
     ]
    }
   ],
   "source": [
    "siri.say_hi()\n",
    "javis.say_hi()\n",
    "bixby.say_hi()\n",
    "print(f\"\"\"\n",
    "{siri.cal_add(1, 2)}\n",
    "{javis.cal_add(3, 4)}\n",
    "{bixby.cal_add(5, 6)}\n",
    "\"\"\")\n",
    "siri.die()\n",
    "javis.die()\n",
    "bixby.die()\n",
    "\n",
    "Robot.how_many()"
   ]
  }
 ],
 "metadata": {
  "kernelspec": {
   "display_name": ".venv",
   "language": "python",
   "name": "python3"
  },
  "language_info": {
   "codemirror_mode": {
    "name": "ipython",
    "version": 3
   },
   "file_extension": ".py",
   "mimetype": "text/x-python",
   "name": "python",
   "nbconvert_exporter": "python",
   "pygments_lexer": "ipython3",
   "version": "3.10.14"
  }
 },
 "nbformat": 4,
 "nbformat_minor": 2
}
