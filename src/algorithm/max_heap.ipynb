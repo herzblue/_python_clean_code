{
 "cells": [
  {
   "cell_type": "code",
   "execution_count": 1,
   "metadata": {},
   "outputs": [],
   "source": [
    "class MaxHeap:\n",
    "    def __init__(self):\n",
    "        self.data = [None]\n",
    "\n",
    "    def insert(self, item):\n",
    "        # 배열 마지막에 추가\n",
    "        self.data.append(item)\n",
    "        \n",
    "        # 부모 = m//2\n",
    "        # 왼쪽 자식 = m*2\n",
    "        # 오른쪽 자식 = m*2+1\n",
    "        m = len(self.data) - 1\n",
    "        p = m // 2\n",
    "        \n",
    "        # 부모노드와 대소비교\n",
    "        # while조건 - 부모노드가 클때, root가 None\n",
    "        while ((self.data[m] > self.data[p]) and (m != 1)):\n",
    "             self.data[m], self.data[p] = self.data[p], self.data[m]\n",
    "             m = m // 2\n",
    "             p = m // 2"
   ]
  }
 ],
 "metadata": {
  "kernelspec": {
   "display_name": "python-clean-archi-iV6cR6l2-py3.10",
   "language": "python",
   "name": "python3"
  },
  "language_info": {
   "codemirror_mode": {
    "name": "ipython",
    "version": 3
   },
   "file_extension": ".py",
   "mimetype": "text/x-python",
   "name": "python",
   "nbconvert_exporter": "python",
   "pygments_lexer": "ipython3",
   "version": "3.10.14"
  }
 },
 "nbformat": 4,
 "nbformat_minor": 2
}
